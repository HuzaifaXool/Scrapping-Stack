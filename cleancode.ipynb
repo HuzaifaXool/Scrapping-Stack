{
 "cells": [
  {
   "cell_type": "markdown",
   "id": "79cc34ca-5d28-4bb6-bb8c-46cc05e82629",
   "metadata": {},
   "source": [
    "# Required Libraries"
   ]
  },
  {
   "cell_type": "code",
   "execution_count": null,
   "id": "37f6b006-4b70-4d11-9ce1-6bc0aa60a460",
   "metadata": {},
   "outputs": [],
   "source": [
    "import requests                                    #Making request an HTTP to access data\n",
    "from bs4 import BeautifulSoup as bs                #Parsing HTML/XML content on any website\n",
    "import re                                          # Import the re module for working with regular expressions"
   ]
  },
  {
   "cell_type": "markdown",
   "id": "116290af-8cf3-4936-b62f-b98546331ea8",
   "metadata": {},
   "source": [
    "## Headers Define headers to mimic a browser visit and bypass website security"
   ]
  },
  {
   "cell_type": "code",
   "execution_count": null,
   "id": "74168f1b-0c24-4779-a1b4-7db7e14d2522",
   "metadata": {},
   "outputs": [],
   "source": [
    "headers={'User-Agent': 'Brave (Windows NT 6.1) AppleWebKit/537.36 (KHTML, like Gecko) Chrome/41.0.2228.0 Safari/537.36'}"
   ]
  },
  {
   "cell_type": "code",
   "execution_count": null,
   "id": "d07e8130-7a6c-4249-83bf-23a06bba41c1",
   "metadata": {},
   "outputs": [],
   "source": [
    "url=\"https://stackoverflow.com/questions/415511/how-do-i-get-the-current-time-in-python\""
   ]
  },
  {
   "cell_type": "code",
   "execution_count": null,
   "id": "e9bc7152-2723-49db-a4bb-901421969ea7",
   "metadata": {},
   "outputs": [],
   "source": [
    "response=requests.get(url,headers=headers)  # Making an HTTP GET request to access data from the specified URL with the given headers"
   ]
  },
  {
   "cell_type": "code",
   "execution_count": null,
   "id": "f10326b1-d116-4a30-b5bd-a9651bfb54d8",
   "metadata": {},
   "outputs": [],
   "source": [
    "response #gets the status of the coonection"
   ]
  },
  {
   "cell_type": "code",
   "execution_count": null,
   "id": "b6c82617-d59c-4ba2-96c3-f6cf66244a4a",
   "metadata": {},
   "outputs": [],
   "source": [
    "content=bs(response.content,'html.parser') #parsing the html content using beautiful soup"
   ]
  },
  {
   "cell_type": "code",
   "execution_count": null,
   "id": "2388c0ca-b6fe-4f0a-9587-3c480fa5ae93",
   "metadata": {},
   "outputs": [],
   "source": [
    "Class_name=\"fs-headline1 ow-break-word mb8 flex--item fl1\" #locating the class name on the website for the relavent question"
   ]
  },
  {
   "cell_type": "code",
   "execution_count": null,
   "id": "0136e1b5-d5c2-42dc-84f4-c1a9d982e10c",
   "metadata": {},
   "outputs": [],
   "source": [
    "Question_Asked=content.find_all('h1',class_=Class_name)\n",
    "for i in Question_Asked:\n",
    "    print(i.text)"
   ]
  },
  {
   "cell_type": "code",
   "execution_count": null,
   "id": "39f2648a-7ec9-4d71-a3ab-f8a411d699c2",
   "metadata": {
    "scrolled": true
   },
   "outputs": [],
   "source": [
    "Finding_Best_Ans=[]\n",
    "for i in content.find_all('div','s-prose js-post-body'):\n",
    "    text=i.text.strip()\n",
    "    text=re.sub(r'\\s+',' ',text)\n",
    "    Finding_Best_Ans.append(text)"
   ]
  },
  {
   "cell_type": "code",
   "execution_count": null,
   "id": "8498c09f-21eb-4db2-98dd-7b22bd13fcec",
   "metadata": {},
   "outputs": [],
   "source": [
    "Finding_Best_Ans[1]"
   ]
  },
  {
   "cell_type": "code",
   "execution_count": null,
   "id": "8f6a30b0-029e-4900-8301-7229f9512b53",
   "metadata": {},
   "outputs": [],
   "source": [
    "Ans_Rating=[]\n",
    "for i in content.find_all('div','js-vote-count flex--item d-flex fd-column ai-center fc-theme-body-font fw-bold fs-subheading py4'):\n",
    "    Ans_Rating.append(int(i.text.strip()))"
   ]
  },
  {
   "cell_type": "code",
   "execution_count": null,
   "id": "06e1dda4-7cd5-4220-baa0-347416b3b470",
   "metadata": {},
   "outputs": [],
   "source": [
    "print(Ans_Rating)"
   ]
  },
  {
   "cell_type": "code",
   "execution_count": null,
   "id": "f90e9258-062f-40b3-8e8a-6cbd5f52ab28",
   "metadata": {},
   "outputs": [],
   "source": [
    "data={}\n",
    "for i in range(1,len(Finding_Best_Ans)):\n",
    "    data[Ans_Rating[i]]=Finding_Best_Ans[i]\n",
    "sorting_data=sorted(data.items(),reverse=True)"
   ]
  },
  {
   "cell_type": "code",
   "execution_count": null,
   "id": "935410da-5ce5-45fc-b751-345d29da6c69",
   "metadata": {},
   "outputs": [],
   "source": [
    "data.keys()"
   ]
  },
  {
   "cell_type": "code",
   "execution_count": null,
   "id": "b47f31fe-9898-4b4b-9478-60afda25d9d5",
   "metadata": {},
   "outputs": [],
   "source": [
    "sorting_data[0]"
   ]
  },
  {
   "cell_type": "code",
   "execution_count": null,
   "id": "c2d9ade4-7fd7-4325-b197-08871bc7c43f",
   "metadata": {},
   "outputs": [],
   "source": []
  }
 ],
 "metadata": {
  "kernelspec": {
   "display_name": "Python 3 (ipykernel)",
   "language": "python",
   "name": "python3"
  },
  "language_info": {
   "codemirror_mode": {
    "name": "ipython",
    "version": 3
   },
   "file_extension": ".py",
   "mimetype": "text/x-python",
   "name": "python",
   "nbconvert_exporter": "python",
   "pygments_lexer": "ipython3",
   "version": "3.11.7"
  }
 },
 "nbformat": 4,
 "nbformat_minor": 5
}
